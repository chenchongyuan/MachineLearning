{
 "cells": [
  {
   "cell_type": "markdown",
   "metadata": {},
   "source": [
    "# kNN分类算法基础"
   ]
  },
  {
   "cell_type": "markdown",
   "metadata": {},
   "source": [
    "1. 描述：如果一个样本在特征空间中的 k 个最相似即特征空间中最邻近)的样本中的大多数属于某一个类别，则该样本也属于这个类别\n",
    "2. 步骤\n",
    "    1. 分别计算此测试点与训练集中每一个样本的欧氏距离\n",
    "    2. 按照距离的增序排序\n",
    "    3. 选择前k个距离最小的点\n",
    "    4. 确定这k个点所属标签出现的次数\n",
    "    5. 以出现频率最高的类别作为当前点的预测分类\n",
    "3. 参数k\n",
    "    - k越小，模型越复杂，此时偏差小、方差大\n",
    "    - k越大，模型越简单，此时偏差大、方差小（k最大为样本总数）\n",
    "3. 复杂度\n",
    "    - 时间复杂度\n",
    "        1. 由于没有训练过程，所以训练时间复杂度为0\n",
    "        2. 若训练集有m个样本，n个特征，则每预测一个新数据需要O(m*n)\n",
    "        \n",
    "4. 优点\n",
    "    1. 精度高\n",
    "    2. 没有对数据的分布假设\n",
    "5. 缺点\n",
    "    1. 计算复杂度高：效率低\n",
    "    2. 高度数据相关：对异常值很敏感\n",
    "    3. 预测结果不具有可解释性\n",
    "    4. 维数灾难：随着维度增加，两个点的距离会越来越大\n",
    "6. 特点\n",
    "    - 非参数学习：没有训练过程，可认为训练集本身就是一个模型\n",
    "    - 需要数据归一化\n",
    "7. 优化\n",
    "    - 采用更优的数据结构：KD-Tree、Ball-Tree（sklearn可设置）\n",
    "    - 降维\n",
    "8. 用途\n",
    "    - 分类问题（多分类）\n",
    "    - 回归问题"
   ]
  },
  {
   "cell_type": "markdown",
   "metadata": {},
   "source": [
    "# scikit-learn中的kNN Classifier"
   ]
  },
  {
   "cell_type": "markdown",
   "metadata": {},
   "source": [
    "### 核心步骤：\n",
    "1. KNeighborsClassifier(n_neighbors=?)\n",
    "2. kNN_classifier.fit(X, y)\n",
    "3. kNN_classifier.predict(x_test)（需传入矩阵）"
   ]
  },
  {
   "cell_type": "code",
   "execution_count": 16,
   "metadata": {},
   "outputs": [
    {
     "data": {
      "text/plain": [
       "KNeighborsClassifier(algorithm='auto', leaf_size=30, metric='minkowski',\n",
       "           metric_params=None, n_jobs=1, n_neighbors=6, p=2,\n",
       "           weights='uniform')"
      ]
     },
     "execution_count": 16,
     "metadata": {},
     "output_type": "execute_result"
    }
   ],
   "source": [
    "import numpy as np\n",
    "from sklearn.neighbors import KNeighborsClassifier   #调用k近邻分类器\n",
    "\n",
    "X_train = np.random.rand(10, 2)\n",
    "y_train = np.array([0, 0, 0, 0, 0, 1, 1, 1, 1, 1])\n",
    "x_test = np.random.rand(1, 2)\n",
    "kNN_classifier = KNeighborsClassifier(n_neighbors=6) #n_neighbors即为k\n",
    "kNN_classifier.fit(X_train, y_train)                 #拟合过程，返回此分类器对象"
   ]
  },
  {
   "cell_type": "code",
   "execution_count": 17,
   "metadata": {
    "scrolled": true
   },
   "outputs": [
    {
     "data": {
      "text/plain": [
       "array([1])"
      ]
     },
     "execution_count": 17,
     "metadata": {},
     "output_type": "execute_result"
    }
   ],
   "source": [
    "kNN_classifier.predict(x_test)                       #应传入矩阵，传入向量会报错"
   ]
  },
  {
   "cell_type": "markdown",
   "metadata": {},
   "source": [
    "# kNN中的超参数"
   ]
  },
  {
   "cell_type": "markdown",
   "metadata": {},
   "source": [
    "- n_neighbors：k值，默认为5\n",
    "- weights：权值方法，默认为'uniform'\n",
    "    - uniform：平均权值\n",
    "    - distance：以距离的倒数为权值\n",
    "- p：闵可夫斯基距离（当weights='distance'时才生效）\n",
    "    - p=1：曼哈顿距离（x轴距离加y轴距离的绝对值）\n",
    "    - p=2：欧氏距离\n",
    "- metric：度量方法，默认为'minkowski'（闵可夫斯基距离度量）"
   ]
  },
  {
   "cell_type": "markdown",
   "metadata": {},
   "source": [
    "#### 确定k值和权值方法："
   ]
  },
  {
   "cell_type": "code",
   "execution_count": 1,
   "metadata": {},
   "outputs": [
    {
     "name": "stdout",
     "output_type": "stream",
     "text": [
      "best_method =  uniform\n",
      "best_k =  4\n",
      "best_score =  0.991666666667\n"
     ]
    }
   ],
   "source": [
    "import numpy as np\n",
    "from sklearn import datasets\n",
    "from sklearn.model_selection import train_test_split\n",
    "from sklearn.neighbors import KNeighborsClassifier\n",
    "\n",
    "digits = datasets.load_digits()\n",
    "X = digits.data\n",
    "y = digits.target\n",
    "X_train, X_test, y_train, y_test = train_test_split(X, y, test_size=0.2, random_state=666)\n",
    "\n",
    "best_method = \"\"\n",
    "best_score = 0.0\n",
    "best_k = -1\n",
    "for method in [\"uniform\", \"distance\"]:\n",
    "    for k in range(1, 11):\n",
    "        kNN_clf = KNeighborsClassifier(n_neighbors=k, weights=method)\n",
    "        kNN_clf.fit(X_train, y_train)\n",
    "        score = kNN_clf.score(X_test, y_test)\n",
    "        if score > best_score:\n",
    "            best_k = k\n",
    "            best_score = score\n",
    "            best_method = method\n",
    "print(\"best_method = \", best_method)\n",
    "print(\"best_k = \", best_k)\n",
    "print(\"best_score = \", best_score)"
   ]
  },
  {
   "cell_type": "markdown",
   "metadata": {},
   "source": [
    "#### 网格搜索（k*p）：寻找闵可夫斯基距离对应的p"
   ]
  },
  {
   "cell_type": "code",
   "execution_count": 7,
   "metadata": {},
   "outputs": [
    {
     "name": "stdout",
     "output_type": "stream",
     "text": [
      "best_p =  1\n",
      "best_k =  3\n",
      "best_score =  0.988888888889\n",
      "Wall time: 3.07 s\n"
     ]
    }
   ],
   "source": [
    "%%time\n",
    "best_p = -1\n",
    "best_score = 0.0\n",
    "best_k = -1\n",
    "\n",
    "for k in range(1, 11):\n",
    "    for p in range(1,7):\n",
    "        kNN_clf = KNeighborsClassifier(n_neighbors=k, weights=method)\n",
    "        kNN_clf.fit(X_train, y_train)\n",
    "        score = kNN_clf.score(X_test, y_test)\n",
    "        if score > best_score:\n",
    "            best_k = k\n",
    "            best_score = score\n",
    "            best_p = p\n",
    "print(\"best_p = \", best_p)\n",
    "print(\"best_k = \", best_k)\n",
    "print(\"best_score = \", best_score)"
   ]
  },
  {
   "cell_type": "markdown",
   "metadata": {},
   "source": [
    "# scikit-learn中的kNN Regressor"
   ]
  },
  {
   "cell_type": "code",
   "execution_count": 4,
   "metadata": {},
   "outputs": [
    {
     "data": {
      "text/plain": [
       "0.60267450508095299"
      ]
     },
     "execution_count": 4,
     "metadata": {},
     "output_type": "execute_result"
    }
   ],
   "source": [
    "import numpy as np\n",
    "import matplotlib.pyplot as plt\n",
    "from sklearn import datasets\n",
    "from sklearn.model_selection import train_test_split\n",
    "from sklearn.model_selection import GridSearchCV\n",
    "from sklearn.neighbors import KNeighborsRegressor\n",
    "\n",
    "boston = datasets.load_boston()\n",
    "X = boston.data\n",
    "y = boston.target\n",
    "X = X[y < 50.0]  #去除异常值\n",
    "y = y[y < 50.0]  #同上\n",
    "\n",
    "X_train, X_test, y_train, y_test = train_test_split(X, y, random_state=666)\n",
    "\n",
    "kNN_reg = KNeighborsRegressor()  #k默认为5\n",
    "kNN_reg.fit(X_train, y_train)\n",
    "kNN_reg.score(X_test, y_test)  #根据默认参数所得的准确率"
   ]
  },
  {
   "cell_type": "code",
   "execution_count": 5,
   "metadata": {},
   "outputs": [
    {
     "name": "stdout",
     "output_type": "stream",
     "text": [
      "Fitting 3 folds for each of 60 candidates, totalling 180 fits\n"
     ]
    },
    {
     "name": "stderr",
     "output_type": "stream",
     "text": [
      "[Parallel(n_jobs=-1)]: Done  34 tasks      | elapsed:    1.6s\n",
      "[Parallel(n_jobs=-1)]: Done 180 out of 180 | elapsed:    2.0s finished\n"
     ]
    },
    {
     "data": {
      "text/plain": [
       "GridSearchCV(cv=None, error_score='raise',\n",
       "       estimator=KNeighborsRegressor(algorithm='auto', leaf_size=30, metric='minkowski',\n",
       "          metric_params=None, n_jobs=1, n_neighbors=5, p=2,\n",
       "          weights='uniform'),\n",
       "       fit_params=None, iid=True, n_jobs=-1,\n",
       "       param_grid=[{'weights': ['uniform'], 'n_neighbors': [1, 2, 3, 4, 5, 6, 7, 8, 9, 10]}, {'weights': ['distance'], 'n_neighbors': [1, 2, 3, 4, 5, 6, 7, 8, 9, 10], 'p': [1, 2, 3, 4, 5]}],\n",
       "       pre_dispatch='2*n_jobs', refit=True, return_train_score='warn',\n",
       "       scoring=None, verbose=1)"
      ]
     },
     "execution_count": 5,
     "metadata": {},
     "output_type": "execute_result"
    }
   ],
   "source": [
    "param_grid = [ #total:10+50=60 candidates\n",
    "    {\n",
    "        'weights':['uniform'],\n",
    "        'n_neighbors':[i for i in range(1, 11)]  #11-1=10 candidates\n",
    "    },\n",
    "    {\n",
    "        'weights':['distance'],\n",
    "        'n_neighbors':[i for i in range(1, 11)], #10*5=50 candidates\n",
    "        'p':[i for i in range(1, 6)]\n",
    "    }\n",
    "]\n",
    "\n",
    "kNN_reg = KNeighborsRegressor()\n",
    "grid_search = GridSearchCV(kNN_reg, param_grid, n_jobs=-1, verbose=1)\n",
    "grid_search.fit(X_train, y_train)"
   ]
  },
  {
   "cell_type": "code",
   "execution_count": 6,
   "metadata": {},
   "outputs": [
    {
     "data": {
      "text/plain": [
       "{'n_neighbors': 6, 'p': 1, 'weights': 'distance'}"
      ]
     },
     "execution_count": 6,
     "metadata": {},
     "output_type": "execute_result"
    }
   ],
   "source": [
    "grid_search.best_params_"
   ]
  },
  {
   "cell_type": "code",
   "execution_count": 14,
   "metadata": {},
   "outputs": [
    {
     "data": {
      "text/plain": [
       "0.60603279917357411"
      ]
     },
     "execution_count": 14,
     "metadata": {},
     "output_type": "execute_result"
    }
   ],
   "source": [
    "grid_search.best_score_  #使用交叉验证的准确率"
   ]
  },
  {
   "cell_type": "code",
   "execution_count": 15,
   "metadata": {},
   "outputs": [
    {
     "data": {
      "text/plain": [
       "0.73542449060927706"
      ]
     },
     "execution_count": 15,
     "metadata": {},
     "output_type": "execute_result"
    }
   ],
   "source": [
    "grid_search.best_estimator_.score(X_test, y_test)  #R^2值"
   ]
  }
 ],
 "metadata": {
  "kernelspec": {
   "display_name": "Python 3",
   "language": "python",
   "name": "python3"
  },
  "language_info": {
   "codemirror_mode": {
    "name": "ipython",
    "version": 3
   },
   "file_extension": ".py",
   "mimetype": "text/x-python",
   "name": "python",
   "nbconvert_exporter": "python",
   "pygments_lexer": "ipython3",
   "version": "3.6.3"
  }
 },
 "nbformat": 4,
 "nbformat_minor": 2
}
